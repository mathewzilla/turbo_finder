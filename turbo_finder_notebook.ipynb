{
 "cells": [
  {
   "cell_type": "markdown",
   "metadata": {},
   "source": [
    "# Turbo Finder\n",
    "## Code to check websites for in-stock turbo trainers, so you don't have to"
   ]
  },
  {
   "cell_type": "code",
   "execution_count": 2,
   "metadata": {},
   "outputs": [],
   "source": [
    "# Import some code\n",
    "from bs4 import BeautifulSoup\n",
    "import requests\n",
    "import re\n",
    "import time\n",
    "import beepy\n",
    "import webbrowser"
   ]
  },
  {
   "cell_type": "code",
   "execution_count": 3,
   "metadata": {},
   "outputs": [],
   "source": [
    "# List of trainer sites. Uncomment (and reformat the brackets) the other lines (or add new ones) to look in other places\n",
    "trainer_sites = [{'name': 'kickr core', 'url': \"https://uk.wahoofitness.com/devices/bike-trainers/kickr-core-indoor-smart-trainer-reconditioned-euuk\", 'search': 'This product is out of stock', 'catch': 'There has been an error processing your request'}]\n",
    "                #  {'name': 'kickr snap', 'url': \"https://uk.wahoofitness.com/devices/bike-trainers/wahoo-kickr-snap-refurbished\", 'search': 'This product is out of stock', 'catch': 'There has been an error processing your request'},   \n",
    "                #  {'name': 'sigma tacx flux', 'url': \"https://www.sigmasports.com/item/Tacx/FLUX-S-Smart-Turbo-Trainer-T2900S/K104\", 'search': 'out of stock', 'catch': 'sigma dummy catch'},\n",
    "                #  {'name': 'halfords elite direto OTS', 'url': \"https://www.halfords.com/cycling/turbo-trainers/smart-turbo-trainers/elite-direto-ots-2-percent-turbo-trainer-732044.html\", 'search': 'Unfortunately', 'catch': 'halfords dummy catch'},\n",
    "                #  {'name': 'decathlon tacx flow', 'url': \"https://www.decathlon.co.uk/flow-smart-t2240-turbo-trainer-800-watts-id_8345488.html\", 'search': 'Product out of stock', 'catch': 'decathlon dummy catch'},\n",
    "                #  {'name': 'wiggle tacx flux', 'url': \"https://www.wiggle.co.uk/tacx-flux-s-direct-drive-smart-trainer/\", 'search': 'Out of stock.', 'catch': 'The service is unavailable.'}]\n",
    "\n",
    "              "
   ]
  },
  {
   "cell_type": "code",
   "execution_count": 4,
   "metadata": {},
   "outputs": [
    {
     "ename": "KeyboardInterrupt",
     "evalue": "",
     "output_type": "error",
     "traceback": [
      "\u001b[0;31m---------------------------------------------------------------------------\u001b[0m",
      "\u001b[0;31mKeyboardInterrupt\u001b[0m                         Traceback (most recent call last)",
      "\u001b[0;32m<ipython-input-4-b2018fb381be>\u001b[0m in \u001b[0;36m<module>\u001b[0;34m\u001b[0m\n\u001b[1;32m     19\u001b[0m \u001b[0;34m\u001b[0m\u001b[0m\n\u001b[1;32m     20\u001b[0m \u001b[0;34m\u001b[0m\u001b[0m\n\u001b[0;32m---> 21\u001b[0;31m     \u001b[0mtime\u001b[0m\u001b[0;34m.\u001b[0m\u001b[0msleep\u001b[0m\u001b[0;34m(\u001b[0m\u001b[0;36m60\u001b[0m\u001b[0;34m)\u001b[0m\u001b[0;34m\u001b[0m\u001b[0;34m\u001b[0m\u001b[0m\n\u001b[0m",
      "\u001b[0;31mKeyboardInterrupt\u001b[0m: "
     ]
    }
   ],
   "source": [
    "# The loop that checks the sites, makes a sound and opens a web browser if a turbo is found\n",
    "while True:\n",
    "    for s in trainer_sites:\n",
    "        content = requests.get(s['url'])\n",
    "        soup = BeautifulSoup(content.text, 'html.parser')\n",
    "        catch = soup.find_all(text = re.compile(s['catch']))\n",
    "        result = soup.find_all(text = re.compile(s['search']))\n",
    "        if not result:\n",
    "            if catch:\n",
    "                print(soup)\n",
    "                print(s['name']+' overloaded')\n",
    "                # beepy.beep(sound='robot_error')\n",
    "            else: \n",
    "                print('TRAINER HERE? '+s['url'])\n",
    "                webbrowser.open(s['url'])\n",
    "                # print(soup)\n",
    "                for i in range(3):\n",
    "                    beepy.beep(sound='coin')\n",
    "    \n",
    "    \n",
    "    time.sleep(60)"
   ]
  },
  {
   "cell_type": "code",
   "execution_count": 5,
   "metadata": {},
   "outputs": [
    {
     "data": {
      "text/plain": [
       "True"
      ]
     },
     "execution_count": 5,
     "metadata": {},
     "output_type": "execute_result"
    }
   ],
   "source": []
  },
  {
   "cell_type": "code",
   "execution_count": null,
   "metadata": {},
   "outputs": [],
   "source": []
  }
 ],
 "metadata": {
  "kernelspec": {
   "display_name": "Python 3",
   "language": "python",
   "name": "python3"
  },
  "language_info": {
   "codemirror_mode": {
    "name": "ipython",
    "version": 3
   },
   "file_extension": ".py",
   "mimetype": "text/x-python",
   "name": "python",
   "nbconvert_exporter": "python",
   "pygments_lexer": "ipython3",
   "version": "3.7.3"
  }
 },
 "nbformat": 4,
 "nbformat_minor": 2
}
